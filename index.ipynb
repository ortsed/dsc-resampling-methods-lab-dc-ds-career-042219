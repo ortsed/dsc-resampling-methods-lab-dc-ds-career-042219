{
 "cells": [
  {
   "cell_type": "markdown",
   "metadata": {},
   "source": [
    "# Resampling Methods - Lab\n",
    "\n",
    "## Introduction\n",
    "\n",
    "Now that you have some preliminary background on bootstrapping, jackknife and permutation tests, its time to practice those skills by coding them into functions. You'll then apply these tests to a hypothesis test and compare the results to a parametric t-test.\n",
    "\n",
    "## Objectives\n",
    "\n",
    "You will be able to:\n",
    "* Understand permutation testing\n",
    "* Understand what jackknife is\n",
    "* Understand what bootstrapping is"
   ]
  },
  {
   "cell_type": "markdown",
   "metadata": {},
   "source": [
    "## Bootstrapping\n",
    "\n",
    "Write a function that takes a sample and generates n additional samples of the same size using bootstrapping. (Recall that bootstrapping creates additional sets by sampling with replacement.)"
   ]
  },
  {
   "cell_type": "code",
   "execution_count": 1,
   "metadata": {},
   "outputs": [],
   "source": [
    "def bootstrap(sample):\n",
    "    return np.random.choice(sample, size=len(sample), replace=True)\n",
    "        "
   ]
  },
  {
   "cell_type": "markdown",
   "metadata": {},
   "source": [
    "## Jackknife \n",
    "\n",
    "Write a function that creates additional samples by removing one element at a time. The function should do this for each of the n items in the original sample, returning n samples, each with n-1 members."
   ]
  },
  {
   "cell_type": "code",
   "execution_count": 2,
   "metadata": {},
   "outputs": [],
   "source": [
    "def jack1(obs):\n",
    "    \"\"\"This function should take in a list of n observations and return n lists\n",
    "    each with one member (presumably the nth) removed.\"\"\"\n",
    "\n",
    "    samples = []\n",
    "    for i in range(len(sample)):\n",
    "        new_sample = sample[:i] + sample[i+1:]\n",
    "        samples.append(new_sample)\n",
    "    return samples\n",
    "    "
   ]
  },
  {
   "cell_type": "markdown",
   "metadata": {},
   "source": [
    "## Permutation Testing\n",
    "\n",
    "Define a function that generate all possible, equally sized, two set splits of two sets A and B. Sets A and B need not be the same size, but all of the generate two set splits should be of equal size. For example, if we had a set with 5 members and a set with 7 members, the function would return all possible 5-7 splits of the 12 items. \n",
    "\n",
    "\n",
    "Here's a more in depth example:  \n",
    "```A = [1,2,2]\n",
    "B = [1,3]\n",
    "permT(A, B) = [\n",
    "                ([1,2,2], [1,3]),\n",
    "                ([1,2,3], [1,2]),\n",
    "                ([1,2,1], [2,3])\n",
    "                ([1,1,3], [2,2]),\n",
    "                ([2,2,3], [1,1])\n",
    "              ]```  \n",
    "These are all the possible 3-2 member splits of the 5 elements : 1,1,2,2,3."
   ]
  },
  {
   "cell_type": "code",
   "execution_count": 14,
   "metadata": {},
   "outputs": [],
   "source": [
    "from itertools import permutations\n",
    "import pandas as pd"
   ]
  },
  {
   "cell_type": "code",
   "execution_count": 15,
   "metadata": {},
   "outputs": [],
   "source": [
    "def permT(a,b):\n",
    "    comb = a + b\n",
    "    perms = list(permutations(comb))\n",
    "    for i, perm in enumerate(perms):\n",
    "        perms[i] = [perm[0:len(a)], perm[len(a):]]\n",
    "    df = pd.DataFrame(perms)\n",
    "    df = df.drop_duplicates()\n",
    "    return list(df          "
   ]
  },
  {
   "cell_type": "code",
   "execution_count": 16,
   "metadata": {},
   "outputs": [
    {
     "data": {
      "text/html": [
       "<div>\n",
       "<style scoped>\n",
       "    .dataframe tbody tr th:only-of-type {\n",
       "        vertical-align: middle;\n",
       "    }\n",
       "\n",
       "    .dataframe tbody tr th {\n",
       "        vertical-align: top;\n",
       "    }\n",
       "\n",
       "    .dataframe thead th {\n",
       "        text-align: right;\n",
       "    }\n",
       "</style>\n",
       "<table border=\"1\" class=\"dataframe\">\n",
       "  <thead>\n",
       "    <tr style=\"text-align: right;\">\n",
       "      <th></th>\n",
       "      <th>0</th>\n",
       "      <th>1</th>\n",
       "    </tr>\n",
       "  </thead>\n",
       "  <tbody>\n",
       "    <tr>\n",
       "      <th>0</th>\n",
       "      <td>(1, 2, 2)</td>\n",
       "      <td>(1, 3)</td>\n",
       "    </tr>\n",
       "    <tr>\n",
       "      <th>1</th>\n",
       "      <td>(1, 2, 2)</td>\n",
       "      <td>(3, 1)</td>\n",
       "    </tr>\n",
       "    <tr>\n",
       "      <th>2</th>\n",
       "      <td>(1, 2, 1)</td>\n",
       "      <td>(2, 3)</td>\n",
       "    </tr>\n",
       "    <tr>\n",
       "      <th>3</th>\n",
       "      <td>(1, 2, 1)</td>\n",
       "      <td>(3, 2)</td>\n",
       "    </tr>\n",
       "    <tr>\n",
       "      <th>4</th>\n",
       "      <td>(1, 2, 3)</td>\n",
       "      <td>(2, 1)</td>\n",
       "    </tr>\n",
       "    <tr>\n",
       "      <th>5</th>\n",
       "      <td>(1, 2, 3)</td>\n",
       "      <td>(1, 2)</td>\n",
       "    </tr>\n",
       "    <tr>\n",
       "      <th>12</th>\n",
       "      <td>(1, 1, 2)</td>\n",
       "      <td>(2, 3)</td>\n",
       "    </tr>\n",
       "    <tr>\n",
       "      <th>13</th>\n",
       "      <td>(1, 1, 2)</td>\n",
       "      <td>(3, 2)</td>\n",
       "    </tr>\n",
       "    <tr>\n",
       "      <th>16</th>\n",
       "      <td>(1, 1, 3)</td>\n",
       "      <td>(2, 2)</td>\n",
       "    </tr>\n",
       "    <tr>\n",
       "      <th>18</th>\n",
       "      <td>(1, 3, 2)</td>\n",
       "      <td>(2, 1)</td>\n",
       "    </tr>\n",
       "    <tr>\n",
       "      <th>19</th>\n",
       "      <td>(1, 3, 2)</td>\n",
       "      <td>(1, 2)</td>\n",
       "    </tr>\n",
       "    <tr>\n",
       "      <th>22</th>\n",
       "      <td>(1, 3, 1)</td>\n",
       "      <td>(2, 2)</td>\n",
       "    </tr>\n",
       "    <tr>\n",
       "      <th>24</th>\n",
       "      <td>(2, 1, 2)</td>\n",
       "      <td>(1, 3)</td>\n",
       "    </tr>\n",
       "    <tr>\n",
       "      <th>25</th>\n",
       "      <td>(2, 1, 2)</td>\n",
       "      <td>(3, 1)</td>\n",
       "    </tr>\n",
       "    <tr>\n",
       "      <th>26</th>\n",
       "      <td>(2, 1, 1)</td>\n",
       "      <td>(2, 3)</td>\n",
       "    </tr>\n",
       "    <tr>\n",
       "      <th>27</th>\n",
       "      <td>(2, 1, 1)</td>\n",
       "      <td>(3, 2)</td>\n",
       "    </tr>\n",
       "    <tr>\n",
       "      <th>28</th>\n",
       "      <td>(2, 1, 3)</td>\n",
       "      <td>(2, 1)</td>\n",
       "    </tr>\n",
       "    <tr>\n",
       "      <th>29</th>\n",
       "      <td>(2, 1, 3)</td>\n",
       "      <td>(1, 2)</td>\n",
       "    </tr>\n",
       "    <tr>\n",
       "      <th>30</th>\n",
       "      <td>(2, 2, 1)</td>\n",
       "      <td>(1, 3)</td>\n",
       "    </tr>\n",
       "    <tr>\n",
       "      <th>31</th>\n",
       "      <td>(2, 2, 1)</td>\n",
       "      <td>(3, 1)</td>\n",
       "    </tr>\n",
       "    <tr>\n",
       "      <th>34</th>\n",
       "      <td>(2, 2, 3)</td>\n",
       "      <td>(1, 1)</td>\n",
       "    </tr>\n",
       "    <tr>\n",
       "      <th>42</th>\n",
       "      <td>(2, 3, 1)</td>\n",
       "      <td>(2, 1)</td>\n",
       "    </tr>\n",
       "    <tr>\n",
       "      <th>43</th>\n",
       "      <td>(2, 3, 1)</td>\n",
       "      <td>(1, 2)</td>\n",
       "    </tr>\n",
       "    <tr>\n",
       "      <th>44</th>\n",
       "      <td>(2, 3, 2)</td>\n",
       "      <td>(1, 1)</td>\n",
       "    </tr>\n",
       "    <tr>\n",
       "      <th>96</th>\n",
       "      <td>(3, 1, 2)</td>\n",
       "      <td>(2, 1)</td>\n",
       "    </tr>\n",
       "    <tr>\n",
       "      <th>97</th>\n",
       "      <td>(3, 1, 2)</td>\n",
       "      <td>(1, 2)</td>\n",
       "    </tr>\n",
       "    <tr>\n",
       "      <th>100</th>\n",
       "      <td>(3, 1, 1)</td>\n",
       "      <td>(2, 2)</td>\n",
       "    </tr>\n",
       "    <tr>\n",
       "      <th>102</th>\n",
       "      <td>(3, 2, 1)</td>\n",
       "      <td>(2, 1)</td>\n",
       "    </tr>\n",
       "    <tr>\n",
       "      <th>103</th>\n",
       "      <td>(3, 2, 1)</td>\n",
       "      <td>(1, 2)</td>\n",
       "    </tr>\n",
       "    <tr>\n",
       "      <th>104</th>\n",
       "      <td>(3, 2, 2)</td>\n",
       "      <td>(1, 1)</td>\n",
       "    </tr>\n",
       "  </tbody>\n",
       "</table>\n",
       "</div>"
      ],
      "text/plain": [
       "             0       1\n",
       "0    (1, 2, 2)  (1, 3)\n",
       "1    (1, 2, 2)  (3, 1)\n",
       "2    (1, 2, 1)  (2, 3)\n",
       "3    (1, 2, 1)  (3, 2)\n",
       "4    (1, 2, 3)  (2, 1)\n",
       "5    (1, 2, 3)  (1, 2)\n",
       "12   (1, 1, 2)  (2, 3)\n",
       "13   (1, 1, 2)  (3, 2)\n",
       "16   (1, 1, 3)  (2, 2)\n",
       "18   (1, 3, 2)  (2, 1)\n",
       "19   (1, 3, 2)  (1, 2)\n",
       "22   (1, 3, 1)  (2, 2)\n",
       "24   (2, 1, 2)  (1, 3)\n",
       "25   (2, 1, 2)  (3, 1)\n",
       "26   (2, 1, 1)  (2, 3)\n",
       "27   (2, 1, 1)  (3, 2)\n",
       "28   (2, 1, 3)  (2, 1)\n",
       "29   (2, 1, 3)  (1, 2)\n",
       "30   (2, 2, 1)  (1, 3)\n",
       "31   (2, 2, 1)  (3, 1)\n",
       "34   (2, 2, 3)  (1, 1)\n",
       "42   (2, 3, 1)  (2, 1)\n",
       "43   (2, 3, 1)  (1, 2)\n",
       "44   (2, 3, 2)  (1, 1)\n",
       "96   (3, 1, 2)  (2, 1)\n",
       "97   (3, 1, 2)  (1, 2)\n",
       "100  (3, 1, 1)  (2, 2)\n",
       "102  (3, 2, 1)  (2, 1)\n",
       "103  (3, 2, 1)  (1, 2)\n",
       "104  (3, 2, 2)  (1, 1)"
      ]
     },
     "execution_count": 16,
     "metadata": {},
     "output_type": "execute_result"
    }
   ],
   "source": [
    "A = [1,2,2]\n",
    "B = [1,3]\n",
    "permT(A, B)"
   ]
  },
  {
   "cell_type": "markdown",
   "metadata": {},
   "source": [
    "## Permutation Testing in Practice\n",
    "Let's further investigate the scenario proposed in the previous lesson. Below are two samples A and B. The samples are mock data for the blood pressure of sample patients. The research study is looking to validate whether there is a statistical difference in the blood pressure of these two groups using a 5% significance level.  First, calculate the mean blood pressure of each of the two samples. Then, calculate the difference of these means. From there, use your `permT()` function, defined above, to generate all the possible combinations of the entire sample data into A-B splits of equivalent sizes as the original sets. For each of these combinations, calculate the mean blood pressure of the two groups and record the difference between these sample means. The full collection of the difference in means between these generated samples will serve as the denominator to calculate the p-value associated with the difference between the original sample means.\n",
    "\n",
    "For example, in our small handwritten example above:\n",
    "\n",
    "$\\mu_a = \\frac{1+2+2}{3} = \\frac{5}{3}$  \n",
    "and  \n",
    "$\\mu_b = \\frac{1+3}{2} = \\frac{4}{2} = 2$  \n",
    "\n",
    "Giving us\n",
    "\n",
    "$\\mu_a - \\mu_b = \\frac{5}{3} - 2 = \\frac{1}{2}$\n",
    "\n",
    "In comparison, for our various combinations we have:\n",
    "\n",
    "([1,2,2], [1,3]):  $\\mu_a - \\mu_b = \\frac{5}{3} - 2 = \\frac{1}{2}$  \n",
    "([1,2,3], [1,2]):  $\\mu_a - \\mu_b = 2 - \\frac{3}{2} = \\frac{1}{2}$  \n",
    "([1,2,1], [2,3]):  $\\mu_a - \\mu_b = \\frac{4}{3} - \\frac{5}{3} = -\\frac{1}{2}$  \n",
    "([1,1,3], [2,2]):  $\\mu_a - \\mu_b = \\frac{5}{3} - 2 = \\frac{1}{2}$  \n",
    "([2,2,3], [1,1]):  $\\mu_a - \\mu_b = \\frac{7}{3} - 1 = \\frac{4}{3}$  \n",
    "\n",
    "A standard hypothesis test for this scenario might be:\n",
    "\n",
    "$h_0: \\mu_a = \\mu_b$  \n",
    "$h_1: \\mu_a < \\mu_b$  \n",
    "  \n",
    "Thus comparing our sample difference to the differences of our possible combinations, we look at the number of experiments from our permutation space that were the same or greater then our sample statistic, divided by the total number of permutations. In this case, 4 out of 5 of the permutation cases produced the same or greater differences in the two sample means. This value .8 is a strong indication that we cannot refute the null hypothesis for this instance.\n",
    "\n"
   ]
  },
  {
   "cell_type": "code",
   "execution_count": null,
   "metadata": {},
   "outputs": [],
   "source": [
    "a = [1,2,2]\n",
    "b = [1,3]"
   ]
  },
  {
   "cell_type": "code",
   "execution_count": 17,
   "metadata": {},
   "outputs": [
    {
     "ename": "TypeError",
     "evalue": "'int' object is not iterable",
     "output_type": "error",
     "traceback": [
      "\u001b[0;31m\u001b[0m",
      "\u001b[0;31mTypeError\u001b[0mTraceback (most recent call last)",
      "\u001b[0;32m<ipython-input-17-eb1547236bf4>\u001b[0m in \u001b[0;36m<module>\u001b[0;34m()\u001b[0m\n\u001b[1;32m      1\u001b[0m \u001b[0mct_\u001b[0m \u001b[0;34m=\u001b[0m \u001b[0;36m0\u001b[0m\u001b[0;34m\u001b[0m\u001b[0m\n\u001b[0;32m----> 2\u001b[0;31m \u001b[0;32mfor\u001b[0m \u001b[0mcombs1\u001b[0m\u001b[0;34m,\u001b[0m\u001b[0mcombs2\u001b[0m \u001b[0;32min\u001b[0m \u001b[0mpermT\u001b[0m\u001b[0;34m(\u001b[0m\u001b[0mA\u001b[0m\u001b[0;34m,\u001b[0m \u001b[0mB\u001b[0m\u001b[0;34m)\u001b[0m\u001b[0;34m:\u001b[0m\u001b[0;34m\u001b[0m\u001b[0m\n\u001b[0m\u001b[1;32m      3\u001b[0m     \u001b[0mmu1\u001b[0m \u001b[0;34m=\u001b[0m \u001b[0msum\u001b[0m\u001b[0;34m(\u001b[0m\u001b[0mcombs1\u001b[0m\u001b[0;34m)\u001b[0m\u001b[0;34m/\u001b[0m\u001b[0mlen\u001b[0m\u001b[0;34m(\u001b[0m\u001b[0mcombs1\u001b[0m\u001b[0;34m)\u001b[0m\u001b[0;34m\u001b[0m\u001b[0m\n\u001b[1;32m      4\u001b[0m     \u001b[0mmu2\u001b[0m \u001b[0;34m=\u001b[0m \u001b[0msum\u001b[0m\u001b[0;34m(\u001b[0m\u001b[0mcombs2\u001b[0m\u001b[0;34m)\u001b[0m\u001b[0;34m/\u001b[0m\u001b[0mlen\u001b[0m\u001b[0;34m(\u001b[0m\u001b[0mcombs2\u001b[0m\u001b[0;34m)\u001b[0m\u001b[0;34m\u001b[0m\u001b[0m\n\u001b[1;32m      5\u001b[0m     \u001b[0;32mif\u001b[0m \u001b[0mmu1\u001b[0m \u001b[0;34m<\u001b[0m \u001b[0mmu2\u001b[0m\u001b[0;34m:\u001b[0m \u001b[0mct\u001b[0m \u001b[0;34m+=\u001b[0m\u001b[0;36m1\u001b[0m\u001b[0;34m\u001b[0m\u001b[0m\n",
      "\u001b[0;31mTypeError\u001b[0m: 'int' object is not iterable"
     ]
    }
   ],
   "source": [
    "ct_ = 0\n",
    "for combs1,combs2 in permT(A, B):\n",
    "    mu1 = sum(combs1)/len(combs1)\n",
    "    mu2 = sum(combs2)/len(combs2)\n",
    "    if mu1 < mu2: ct +=1\n",
    "\n",
    "print(ct/len(permT(A, B)))\n",
    "        "
   ]
  },
  {
   "cell_type": "markdown",
   "metadata": {},
   "source": [
    "## T-test Revisited\n",
    "\n",
    "The parametric statistical test equivalent to our permutation test above would be a t-test of the two groups. Perform a t-test on the same data above in order to calculate the p-value. How does this compare to the above results?"
   ]
  },
  {
   "cell_type": "code",
   "execution_count": null,
   "metadata": {},
   "outputs": [],
   "source": [
    "# Your code here"
   ]
  },
  {
   "cell_type": "markdown",
   "metadata": {},
   "source": [
    "## Bootstrap Applied\n",
    "\n",
    "Use your code above to apply the bootstrap technique to this hypothesis testing scenario. In other words, similar to the permutation testing you performed above, compute additional samples (arbitrarily let's say 1000) of the same size as the original sample, with replacement. For each of these additional samples, compute whether the difference in sample means is the same or greater then that of the original samples. Use this to calculate an overall p-value for the null hypothesis."
   ]
  },
  {
   "cell_type": "code",
   "execution_count": null,
   "metadata": {},
   "outputs": [],
   "source": [
    "# Your code here"
   ]
  },
  {
   "cell_type": "markdown",
   "metadata": {},
   "source": [
    "## Summary\n",
    "\n",
    "Well done! In this lab you practice coding modern statistical resampling techniques of the 20th century! You also started to compare these non-parametric methods to other parametric methods such as the t-test that we previously discussed."
   ]
  }
 ],
 "metadata": {
  "kernelspec": {
   "display_name": "Python 3",
   "language": "python",
   "name": "python3"
  },
  "language_info": {
   "codemirror_mode": {
    "name": "ipython",
    "version": 3
   },
   "file_extension": ".py",
   "mimetype": "text/x-python",
   "name": "python",
   "nbconvert_exporter": "python",
   "pygments_lexer": "ipython3",
   "version": "3.6.6"
  }
 },
 "nbformat": 4,
 "nbformat_minor": 2
}
